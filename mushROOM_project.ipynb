{
 "cells": [
  {
   "cell_type": "markdown",
   "metadata": {},
   "source": [
    "## Download data"
   ]
  },
  {
   "cell_type": "code",
   "execution_count": 1,
   "metadata": {},
   "outputs": [],
   "source": [
    "# imports required for the whole script to run\n",
    "import matplotlib.pyplot as plt\n",
    "import numpy as np\n",
    "import pandas as pd\n",
    "from sklearn.model_selection import train_test_split\n",
    "from sklearn import metrics\n",
    "from sklearn.neighbors import KNeighborsClassifier\n",
    "from sklearn.metrics import accuracy_score\n",
    "from sklearn.metrics import f1_score\n",
    "from sklearn.tree import DecisionTreeClassifier\n",
    "from sklearn.metrics import cohen_kappa_score\n",
    "from sklearn.ensemble import RandomForestClassifier\n",
    "from sklearn.metrics import plot_confusion_matrix\n",
    "from sklearn import tree\n",
    "import seaborn as sn"
   ]
  },
  {
   "cell_type": "code",
   "execution_count": 2,
   "metadata": {},
   "outputs": [],
   "source": [
    "mushrooms = pd.read_csv('https://github.com/dnkolzeev/mushROOM/raw/main/mushrooms.csv')"
   ]
  },
  {
   "cell_type": "markdown",
   "metadata": {},
   "source": [
    "## Data preparation"
   ]
  },
  {
   "cell_type": "code",
   "execution_count": 3,
   "metadata": {},
   "outputs": [],
   "source": [
    "def df_preliminary_proc(df):\n",
    "\n",
    "    # rename the columns\n",
    "    df.columns = ['classes', 'cap_shape', 'cap_surface', 'cap_color', 'bruises', 'odor',\n",
    "                         'gill_attachment', 'gill_spacing', 'gill_size', 'gill_color',\n",
    "                         'stalk_shape', 'stalk_root', 'stalk_surface_above_ring',\n",
    "                         'stalk_surface_below_ring', 'stalk_color_above_ring',\n",
    "                         'stalk_color_below_ring', 'veil_type', 'veil_color', 'ring_number',\n",
    "                         'ring_type', 'spore_print_color', 'population', 'habitat']\n",
    "\n",
    "    # Drop unclear columns:\n",
    "    df = df.drop(['odor', 'gill_size', 'veil_type', 'spore_print_color'], axis = 1)\n",
    "\n",
    "    # replace '?' sign as a value\n",
    "    df['stalk_root'] = df['stalk_root'].str.replace('?', 'm')\n",
    "\n",
    "    #replace letters with meaningfull words:\n",
    "\n",
    "    classes = {'edible': 'e', 'poisonous': 'p'}\n",
    "    cap_shape = {'bell': 'b', 'conical': 'c', 'convex': 'x', 'flat': 'f', 'knobbed': 'k', 'sunken': 's'}\n",
    "    cap_surface = {'fibrous': 'f', 'grooves': 'g', 'scaly': 'y', 'smooth': 's'}\n",
    "    cap_color = {'brown': 'n', 'buff': 'b', 'cinnamon': 'c', 'gray': 'g', 'green': 'r', \n",
    "                 'pink': 'p', 'purple': 'u', 'red': 'e', 'white': 'w', 'yellow': 'y'}\n",
    "    bruises = {'yes': 't', 'no': 'f'}\n",
    "    gill_attachment = {'attached': 'a', 'descending': 'd', 'free': 'f', 'notched': 'n'}\n",
    "    gill_spacing = {'close': 'c', 'crowded': 'w', 'distant': 'd'}\n",
    "    gill_color = {'black': 'k', 'brown': 'n', 'buff': 'b', 'chocolate': 'h', 'gray': 'g', 'green': 'r', \n",
    "                  'orange': 'o', 'pink': 'p', 'purple': 'u', 'red': 'e', 'white': 'w', 'yellow': 'y'}\n",
    "    stalk_shape = {'enlarging': 'e', 'tapering': 't'}\n",
    "    stalk_root = {'bulbous': 'b', 'club': 'c', 'cup': 'u', 'equal': 'e', 'rhizomorphs': 'z', 'rooted': 'r', \n",
    "                  'missing': 'm'}\n",
    "    stalk_surface_above_ring = {'fibrous': 'f', 'scaly': 'y', 'silky': 'k', 'smooth': 's'}\n",
    "    stalk_surface_below_ring = {'fibrous': 'f', 'scaly': 'y', 'silky': 'k', 'smooth': 's'}\n",
    "    stalk_color_above_ring = {'brown': 'n', 'buff': 'b', 'cinnamon': 'c', 'gray': 'g', 'orange': 'o', \n",
    "                              'pink': 'p', 'red': 'e', 'white': 'w', 'yellow': 'y'}\n",
    "    stalk_color_below_ring = {'brown': 'n', 'buff': 'b', 'cinnamon': 'c', 'gray': 'g', 'orange': 'o', \n",
    "                              'pink': 'p', 'red': 'e', 'white': 'w', 'yellow': 'y'}\n",
    "    veil_color = {'brown': 'n', 'orange': 'o', 'white': 'w', 'yellow': 'y'}\n",
    "    ring_number = {'none': 'n', 'one': 'o', 'two': 't'}\n",
    "    ring_type = {'cobwebby': 'c', 'evanescent': 'e', 'flaring': 'f', \n",
    "                 'large': 'l', 'none': 'n', 'pendant': 'p', 'sheathing': 's', 'zone': 'z'}\n",
    "    population = {'abundant': 'a', 'clustered': 'c', 'numerous': 'n', 'scattered': 's', \n",
    "                  'several': 'v', 'solitary': 'y'}\n",
    "    habitat = {'grasses': 'g', 'leaves': 'l', 'meadows': 'm', 'paths': 'p', 'urban': 'u', \n",
    "               'waste': 'w', 'woods': 'd'}\n",
    "\n",
    "\n",
    "    dict_list = [classes, cap_shape, cap_surface, cap_color, bruises,\n",
    "           gill_attachment, gill_spacing, gill_color,\n",
    "           stalk_shape, stalk_root, stalk_surface_above_ring,\n",
    "           stalk_surface_below_ring, stalk_color_above_ring,\n",
    "           stalk_color_below_ring, veil_color, ring_number, ring_type, population, habitat]\n",
    "\n",
    "    dict_list_rev = []\n",
    "    for i in dict_list:\n",
    "        new_dict = dict([(value, key) for key, value in i.items()])\n",
    "        dict_list_rev.append(new_dict)\n",
    "\n",
    "    for i in range(0,19):\n",
    "        df.iloc[:, i] = df.iloc[:, i].apply(lambda row: dict_list_rev[i][row])\n",
    "\n",
    "\n",
    "    return df"
   ]
  },
  {
   "cell_type": "code",
   "execution_count": 4,
   "metadata": {},
   "outputs": [],
   "source": [
    "def df_final_proc(df):\n",
    "    \n",
    "    classes = {'edible': True, 'poisonous': False}\n",
    "    cap_shape = {'bell': 1, 'conical': 2, 'convex': 3, 'flat': 4, 'knobbed': 5, 'sunken': 6}\n",
    "    cap_surface = {'fibrous': 1, 'grooves': 2, 'scaly': 3, 'smooth': 4}\n",
    "    cap_color = {'brown': 1, 'buff': 2, 'cinnamon': 3, 'gray': 4, 'green': 5, 'pink': 6, 'purple': 7, \n",
    "                 'red': 8, 'white': 9, 'yellow': 10}\n",
    "    bruises = {'yes': 1, 'no': 0}\n",
    "    gill_attachment = {'attached': 1, 'descending': 2, 'free': 3, 'notched': 4}\n",
    "    gill_spacing = {'close': 1, 'crowded': 2, 'distant': 3}\n",
    "    gill_color = {'black': 1, 'brown': 2, 'buff': 3, 'chocolate': 4, 'gray': 5, 'green': 6, \n",
    "                  'orange': 7, 'pink': 8, 'purple': 9, 'red': 10, 'white': 11, 'yellow': 12}\n",
    "    stalk_shape = {'enlarging': 1, 'tapering': 2}\n",
    "    stalk_root = {'bulbous': 1, 'club': 2, 'cup': 3, 'equal': 4, 'rhizomorphs': 5, 'rooted': 6, \n",
    "                  'missing': 0}\n",
    "    stalk_surface_above_ring = {'fibrous': 1, 'scaly': 2, 'silky': 3, 'smooth': 4}\n",
    "    stalk_surface_below_ring = {'fibrous': 1, 'scaly': 2, 'silky': 3, 'smooth': 4}\n",
    "    stalk_color_above_ring = {'brown': 1, 'buff': 2, 'cinnamon': 3, 'gray': 4, 'orange': 5, \n",
    "                              'pink': 6, 'red': 7, 'white': 8, 'yellow': 9}\n",
    "    stalk_color_below_ring = {'brown': 1, 'buff': 2, 'cinnamon': 3, 'gray': 4, 'orange': 5, \n",
    "                              'pink': 6, 'red': 7, 'white': 8, 'yellow': 9}\n",
    "    veil_color = {'brown': 1, 'orange': 2, 'white': 3, 'yellow': 4}\n",
    "    ring_number = {'none': 0, 'one': 1, 'two': 2}\n",
    "    ring_type = {'cobwebby': 1, 'evanescent': 2, 'flaring': 3, 'large': 4, \n",
    "                 'none': 5, 'pendant': 6, 'sheathing': 7, 'zone': 8}\n",
    "    population = {'abundant': 1, 'clustered': 2, 'numerous': 3, 'scattered': 4, 'several': 5, 'solitary': 6}\n",
    "    habitat = {'grasses': 1, 'leaves': 2, 'meadows': 3, 'paths': 4, 'urban': 5, 'waste': 6, 'woods': 7}\n",
    "\n",
    "\n",
    "\n",
    "\n",
    "    dict_list = [classes, cap_shape, cap_surface, cap_color, bruises, \n",
    "           gill_attachment, gill_spacing,  gill_color,\n",
    "           stalk_shape, stalk_root, stalk_surface_above_ring,\n",
    "           stalk_surface_below_ring, stalk_color_above_ring,\n",
    "           stalk_color_below_ring, veil_color, ring_number, ring_type, population, habitat]\n",
    "\n",
    "    for i in range(0,19):\n",
    "        df.iloc[:, i] = df.iloc[:, i].apply(lambda row: dict_list[i][row])\n",
    "\n",
    "\n",
    "    return df, dict_list"
   ]
  },
  {
   "cell_type": "code",
   "execution_count": 5,
   "metadata": {},
   "outputs": [],
   "source": [
    "df_proc = df_preliminary_proc(mushrooms)\n",
    "df, dict_list = df_final_proc(df_proc)"
   ]
  },
  {
   "cell_type": "markdown",
   "metadata": {},
   "source": [
    "### Little summary\n",
    "Features that are unbiguous or too specific for the ordinary person to determine were removed to ensure easier usability of our app. Overall, we ended up with 18 categorial predictors and 1 boolean predicted variable - 'classes'"
   ]
  },
  {
   "cell_type": "markdown",
   "metadata": {},
   "source": [
    "## Exploratory Analysis"
   ]
  },
  {
   "cell_type": "code",
   "execution_count": 6,
   "metadata": {},
   "outputs": [
    {
     "name": "stdout",
     "output_type": "stream",
     "text": [
      "We can see form below that the sample is quite balanceed and both classes are present in the data\n"
     ]
    },
    {
     "data": {
      "image/png": "[encoded data removed]",
      "text/plain": [
       "<Figure size 432x288 with 1 Axes>"
      ]
     },
     "metadata": {},
     "output_type": "display_data"
    }
   ],
   "source": [
    "# Let's see how the predicted variable is distributed and whether the sample is balanced or not\n",
    "classes_count = pd.DataFrame(df['classes'].value_counts())\n",
    "classes_count.index = ['edible', 'poisonous']\n",
    "classes_count = classes_count.reset_index().rename(columns = {'index': 'class'})\n",
    "\n",
    "# Building a pie chart for the predicted variable (class)\n",
    "labels = 'Edible', 'Poisonous'\n",
    "sizes = [52, 48]\n",
    "\n",
    "fig1, ax1 = plt.subplots()\n",
    "ax1.pie(sizes, labels=labels, autopct='%1.1f%%',\n",
    "        shadow=True, startangle=90)\n",
    "ax1.axis('equal')  # Equal aspect ratio ensures that pie is drawn as a circle.\n",
    "\n",
    "print('We can see form below that the sample is quite balanceed and both classes are present in the data')\n",
    "plt.show()"
   ]
  },
  {
   "cell_type": "code",
   "execution_count": 7,
   "metadata": {},
   "outputs": [],
   "source": [
    "# Lets also check how the two classes are distributed among the main characteristic - cap color\n",
    "# It is the foremost visible to a person feature of a mushroom\n",
    "\n",
    "df_proc = df_preliminary_proc(mushrooms)\n",
    "df_proc = df_proc.reset_index()[['classes', 'cap_color', \n",
    "                                 'index']].groupby(['cap_color', \n",
    "                                                    'classes']).count().reset_index().rename(columns =\n",
    "                                                                                             {'index':\n",
    "                                                                                              'count'})\n",
    "\n",
    "\n",
    "df_edible = df_proc[df_proc['classes']=='edible']\n",
    "df_poison = df_proc[df_proc['classes']=='poisonous']\n",
    "\n",
    "# merge to get summary data, fillna with zero\n",
    "df_e_p_counts = df_edible.drop(['classes'],axis=1).merge(df_poison.drop(['classes'],axis=1), \n",
    "                                                         on = 'cap_color', how = 'left', \n",
    "                                                         suffixes = ('_e', '_p')).fillna(0)\n",
    "\n",
    "# change float to int\n",
    "df_e_p_counts[['count_e', 'count_p']] = df_e_p_counts[['count_e', 'count_p']].astype(int)\n",
    "\n",
    "df_e_p_counts['sum'] = df_e_p_counts['count_e'] + df_e_p_counts['count_p']\n",
    "df_e_p_counts = df_e_p_counts.sort_values(by='sum', ascending = False)"
   ]
  },
  {
   "cell_type": "code",
   "execution_count": 8,
   "metadata": {},
   "outputs": [
    {
     "name": "stdout",
     "output_type": "stream",
     "text": [
      "\n",
      "Even though cap color might be percieved as the main feature of a mushroom, \n",
      "we see that there is no clear dependency of the cap color with the class of a mushroom. \n",
      "However, for some cap colors one o fthe classes prevail. \n",
      "Namely, those are yellow and red caps, with which the muchroomer should be careful.\n",
      "\n"
     ]
    },
    {
     "data": {
      "image/png": "[encoded data removed]",
      "text/plain": [
       "<Figure size 720x432 with 1 Axes>"
      ]
     },
     "metadata": {
      "needs_background": "light"
     },
     "output_type": "display_data"
    }
   ],
   "source": [
    "# Creating the bar chart\n",
    "labels = df_e_p_counts['cap_color'].values.tolist()\n",
    "edibles = df_e_p_counts['count_e'].values.tolist()\n",
    "poisonous = df_e_p_counts['count_p'].values.tolist()\n",
    "\n",
    "width = 0.35       # the width of the bars: can also be len(x) sequence\n",
    "\n",
    "fig, ax = plt.subplots(figsize = (10,6))\n",
    "\n",
    "ax.bar(labels, edibles, width,  label='Edible')\n",
    "ax.bar(labels, poisonous, width, bottom=edibles,label='Poisonous')\n",
    "\n",
    "ax.set_ylabel('Count')\n",
    "ax.set_title('Number of Edible and Poisonous Mushrooms by Cap Color')\n",
    "ax.legend()\n",
    "\n",
    "print('''\n",
    "Even though cap color might be percieved as the main feature of a mushroom, \n",
    "we see that there is no clear dependency of the cap color with the class of a mushroom. \n",
    "However, for some cap colors one o fthe classes prevail. \n",
    "Namely, those are yellow and red caps, with which the muchroomer should be careful.\n",
    "''')\n",
    "plt.show()"
   ]
  },
  {
   "cell_type": "markdown",
   "metadata": {},
   "source": [
    "### Little summary\n",
    "To sum up, the data is quite clean, there are no missings and the sample is balanced, so we can be more sure that the prediction will not be skewed towards any class. There is a high a number of observations which is good for building predictions as it contributes to higher accuracy.  "
   ]
  },
  {
   "cell_type": "markdown",
   "metadata": {},
   "source": [
    "## Modelling"
   ]
  },
  {
   "cell_type": "code",
   "execution_count": 9,
   "metadata": {},
   "outputs": [],
   "source": [
    "# We split the data using 30-70 proportion with a random state to ensure same results\n",
    "# Classes - is the predicted variable\n",
    "# Other variables are taken as predictors\n",
    "\n",
    "def data_splitting(df):\n",
    "\n",
    "    # Split the data into train and test dfs:\n",
    "    df_train, df_test = train_test_split(df, test_size=0.3, random_state=42)\n",
    "\n",
    "    x_train = df_train.drop(['classes'], axis =1)  # take all variables except the price \n",
    "    y_train = df_train['classes']  # the price\n",
    "    x_test = df_test.drop(['classes'], axis =1)  # take all variables except the price \n",
    "    y_test = df_test['classes']  # the price\n",
    "\n",
    "    return x_train, y_train, x_test, y_test"
   ]
  },
  {
   "cell_type": "code",
   "execution_count": 10,
   "metadata": {},
   "outputs": [],
   "source": [
    "# Apply splitting\n",
    "x_train, y_train, x_test, y_test = data_splitting(df)"
   ]
  },
  {
   "cell_type": "code",
   "execution_count": 11,
   "metadata": {},
   "outputs": [
    {
     "name": "stdout",
     "output_type": "stream",
     "text": [
      "Accuracy on train data: 1.00\n",
      "Accuracy on test data: 1.00\n",
      "F1-score: 1.00\n",
      "Kappa: 1.00\n"
     ]
    },
    {
     "data": {
      "image/png": "[encoded data removed]",
      "text/plain": [
       "<Figure size 432x288 with 2 Axes>"
      ]
     },
     "metadata": {
      "needs_background": "light"
     },
     "output_type": "display_data"
    }
   ],
   "source": [
    "# Instantiate KNN learning model\n",
    "# N is 6 as it gave the highest accuracy\n",
    "model_knn = KNeighborsClassifier(n_neighbors=6)\n",
    "\n",
    "# fit the model\n",
    "model_knn.fit(x_train, y_train)\n",
    "\n",
    "# Accuracy Score\n",
    "accuracy_train = accuracy_score(y_train, model_knn.predict(x_train)) # for train\n",
    "accuracy_test = accuracy_score(y_test, model_knn.predict(x_test))   # for test\n",
    "f1_test = f1_score(y_test, model_knn.predict(x_test))\n",
    "kappa = cohen_kappa_score(y_test, model_knn.predict(x_test))\n",
    "print('Accuracy on train data: %.2f' %accuracy_train)\n",
    "print('Accuracy on test data: %.2f' %accuracy_test)\n",
    "print('F1-score: %.2f' %f1_test)\n",
    "print('Kappa: %.2f' %kappa)\n",
    "plot_confusion_matrix(model_knn, x_test, y_test, cmap = plt.cm.PuBuGn)\n",
    "plt.show()"
   ]
  },
  {
   "cell_type": "code",
   "execution_count": 12,
   "metadata": {},
   "outputs": [
    {
     "name": "stdout",
     "output_type": "stream",
     "text": [
      "Accuracy on train data: 0.99\n",
      "Accuracy on test data: 0.99\n",
      "F1-score: 0.99\n",
      "Kappa: 0.98\n"
     ]
    },
    {
     "data": {
      "image/png": "[encoded data removed]",
      "text/plain": [
       "<Figure size 432x288 with 2 Axes>"
      ]
     },
     "metadata": {
      "needs_background": "light"
     },
     "output_type": "display_data"
    }
   ],
   "source": [
    "# Decision tree model:\n",
    "model_tree = DecisionTreeClassifier(criterion='gini', max_depth=9, min_samples_leaf=4)\n",
    "\n",
    "# fit the model\n",
    "model_tree.fit(x_train, y_train)\n",
    "\n",
    "# Accuracy Score\n",
    "accuracy_train = accuracy_score(y_train, model_tree.predict(x_train)) # for train\n",
    "accuracy_test = accuracy_score(y_test, model_tree.predict(x_test))   # for test\n",
    "f1_test = f1_score(y_test, model_tree.predict(x_test))\n",
    "kappa = cohen_kappa_score(y_test, model_tree.predict(x_test))\n",
    "print('Accuracy on train data: %.2f' %accuracy_train)\n",
    "print('Accuracy on test data: %.2f' %accuracy_test)\n",
    "print('F1-score: %.2f' %f1_test)\n",
    "print('Kappa: %.2f' %kappa)\n",
    "plot_confusion_matrix(model_tree, x_test, y_test, cmap = plt.cm.Blues)\n",
    "plt.show()"
   ]
  },
  {
   "cell_type": "code",
   "execution_count": 13,
   "metadata": {
    "scrolled": true
   },
   "outputs": [
    {
     "name": "stdout",
     "output_type": "stream",
     "text": [
      "Accuracy on train data: 1.00\n",
      "Accuracy on test data: 1.00\n",
      "F1-score: 1.00\n",
      "Kappa: 1.00\n"
     ]
    },
    {
     "data": {
      "image/png": "[encoded data removed]",
      "text/plain": [
       "<Figure size 432x288 with 2 Axes>"
      ]
     },
     "metadata": {
      "needs_background": "light"
     },
     "output_type": "display_data"
    }
   ],
   "source": [
    "# Random forest:\n",
    "model_rf = RandomForestClassifier(max_depth=8)\n",
    "\n",
    "# fit the model\n",
    "model_rf.fit(x_train, y_train)\n",
    "\n",
    "# Accuracy Score\n",
    "accuracy_train = accuracy_score(y_train, model_rf.predict(x_train)) # for train\n",
    "accuracy_test = accuracy_score(y_test, model_rf.predict(x_test))   # for test\n",
    "f1_test = f1_score(y_test, model_rf.predict(x_test))\n",
    "kappa = cohen_kappa_score(y_test, model_rf.predict(x_test))\n",
    "print('Accuracy on train data: %.2f' %accuracy_train)\n",
    "print('Accuracy on test data: %.2f' %accuracy_test)\n",
    "print('F1-score: %.2f' %f1_test)\n",
    "print('Kappa: %.2f' %kappa)\n",
    "\n",
    "plot_confusion_matrix(model_rf, x_test, y_test, cmap = plt.cm.OrRd)\n",
    "plt.show()"
   ]
  },
  {
   "cell_type": "markdown",
   "metadata": {},
   "source": [
    "### Little summary\n",
    "All models give great accuracies and this could be a warning sign for overfitting. However, logic tells, that it might actually be possible to determine the class of a mushroom with a 100% accuracy, when so many features are taken into account. Thus, we just conclude that our model is actually trustworthy. For the app we will go with KNN, simply because it was the first one which gave such great results. It does not make sense to continue trying other ML techniques because the result higher that what we've already obtained, can not be achieved. "
   ]
  },
  {
   "cell_type": "markdown",
   "metadata": {},
   "source": [
    "## Making the app"
   ]
  },
  {
   "cell_type": "markdown",
   "metadata": {},
   "source": [
    "See GitHub repo: https://github.com/dnkolzeev/mushROOM"
   ]
  }
 ],
 "metadata": {
  "kernelspec": {
   "display_name": "Python 3",
   "language": "python",
   "name": "python3"
  },
  "language_info": {
   "codemirror_mode": {
    "name": "ipython",
    "version": 3
   },
   "file_extension": ".py",
   "mimetype": "text/x-python",
   "name": "python",
   "nbconvert_exporter": "python",
   "pygments_lexer": "ipython3",
   "version": "3.8.3"
  }
 },
 "nbformat": 4,
 "nbformat_minor": 4
}
